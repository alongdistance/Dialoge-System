{
 "cells": [
  {
   "cell_type": "code",
   "execution_count": 1,
   "metadata": {},
   "outputs": [],
   "source": [
    "from datasets import load_dataset\n",
    "\n",
    "data = load_dataset(\"Hello-SimpleAI/HC3\", \"all\", trust_remote_code=True)"
   ]
  },
  {
   "cell_type": "code",
   "execution_count": null,
   "metadata": {},
   "outputs": [],
   "source": [
    "pip install spacy pandas matplotlib"
   ]
  },
  {
   "cell_type": "code",
   "execution_count": 3,
   "metadata": {},
   "outputs": [],
   "source": [
    "import spacy\n",
    "import pandas as pd\n",
    "import matplotlib.pyplot as plt\n",
    "from collections import Counter\n",
    "\n",
    "# Load English and Chinese spaCy models\n",
    "nlp_en = spacy.load(\"en_core_web_sm\")\n",
    "#nlp_zh = spacy.load(\"zh_core_web_sm\")  # For Chinese if needed"
   ]
  },
  {
   "cell_type": "code",
   "execution_count": 5,
   "metadata": {},
   "outputs": [
    {
     "ename": "NameError",
     "evalue": "name 'tmp' is not defined",
     "output_type": "error",
     "traceback": [
      "\u001b[1;31m---------------------------------------------------------------------------\u001b[0m",
      "\u001b[1;31mNameError\u001b[0m                                 Traceback (most recent call last)",
      "Cell \u001b[1;32mIn[5], line 2\u001b[0m\n\u001b[0;32m      1\u001b[0m human_answers \u001b[38;5;241m=\u001b[39m [\n\u001b[1;32m----> 2\u001b[0m     \u001b[43mtmp\u001b[49m \u001b[38;5;241m==\u001b[39m data[\u001b[38;5;124m'\u001b[39m\u001b[38;5;124mtrain\u001b[39m\u001b[38;5;124m'\u001b[39m][\u001b[38;5;124m'\u001b[39m\u001b[38;5;124mhuman_answers\u001b[39m\u001b[38;5;124m'\u001b[39m][:\u001b[38;5;241m1000\u001b[39m]\n\u001b[0;32m      3\u001b[0m ]\n\u001b[0;32m      5\u001b[0m chatgpt_answers \u001b[38;5;241m=\u001b[39m [\n\u001b[0;32m      6\u001b[0m     tmp \u001b[38;5;241m==\u001b[39m data[\u001b[38;5;124m'\u001b[39m\u001b[38;5;124mtrain\u001b[39m\u001b[38;5;124m'\u001b[39m][\u001b[38;5;124m'\u001b[39m\u001b[38;5;124mchatgpt_answers\u001b[39m\u001b[38;5;124m'\u001b[39m][:\u001b[38;5;241m1000\u001b[39m]\n\u001b[0;32m      7\u001b[0m ]\n\u001b[0;32m      9\u001b[0m data \u001b[38;5;241m=\u001b[39m pd\u001b[38;5;241m.\u001b[39mDataFrame({\n\u001b[0;32m     10\u001b[0m     \u001b[38;5;124m'\u001b[39m\u001b[38;5;124mhuman\u001b[39m\u001b[38;5;124m'\u001b[39m: human_answers,\n\u001b[0;32m     11\u001b[0m     \u001b[38;5;124m'\u001b[39m\u001b[38;5;124mchatgpt\u001b[39m\u001b[38;5;124m'\u001b[39m: chatgpt_answers\n\u001b[0;32m     12\u001b[0m })\n",
      "\u001b[1;31mNameError\u001b[0m: name 'tmp' is not defined"
     ]
    }
   ],
   "source": [
    "human_answers = [\n",
    "    tmp = data['train']['human_answers'][:1000]\n",
    "]\n",
    "\n",
    "chatgpt_answers = [\n",
    "    tmp = data['train']['chatgpt_answers'][:1000]\n",
    "]\n",
    "\n",
    "data = pd.DataFrame({\n",
    "    'human': human_answers,\n",
    "    'chatgpt': chatgpt_answers\n",
    "})"
   ]
  },
  {
   "cell_type": "code",
   "execution_count": null,
   "metadata": {},
   "outputs": [],
   "source": [
    "def get_pos_tags(texts, nlp_model):\n",
    "    pos_counts = []\n",
    "    for doc in nlp_model.pipe(texts):\n",
    "        pos_counts.append(Counter([token.pos_ for token in doc]))\n",
    "    return pos_counts"
   ]
  },
  {
   "cell_type": "code",
   "execution_count": null,
   "metadata": {},
   "outputs": [],
   "source": [
    "human_pos = get_pos_tags(data['human'], nlp_en)\n",
    "chatgpt_pos = get_pos_tags(data['chatgpt'], nlp_en)"
   ]
  },
  {
   "cell_type": "code",
   "execution_count": null,
   "metadata": {},
   "outputs": [],
   "source": [
    "# Summing all counts\n",
    "total_human_pos = sum(human_pos, Counter())\n",
    "total_chatgpt_pos = sum(chatgpt_pos, Counter())\n",
    "\n",
    "# Convert to DataFrame for easy plotting\n",
    "df_human_pos = pd.DataFrame.from_dict(total_human_pos, orient='index', columns=['human']).sort_index()\n",
    "df_chatgpt_pos = pd.DataFrame.from_dict(total_chatgpt_pos, orient='index', columns=['chatgpt']).sort_index()\n",
    "\n",
    "# Combine them\n",
    "df_pos = pd.concat([df_human_pos, df_chatgpt_pos], axis=1).fillna(0)"
   ]
  },
  {
   "cell_type": "code",
   "execution_count": null,
   "metadata": {},
   "outputs": [],
   "source": [
    "# Normalize the counts to percentages\n",
    "df_pos['human_percentage'] = (df_pos['human'] / df_pos['human'].sum()) * 100\n",
    "df_pos['chatgpt_percentage'] = (df_pos['chatgpt'] / df_pos['chatgpt'].sum()) * 100"
   ]
  },
  {
   "cell_type": "code",
   "execution_count": null,
   "metadata": {},
   "outputs": [],
   "source": [
    "# Plot the results as shown in the figure\n",
    "df_pos[['human_percentage', 'chatgpt_percentage']].plot(kind='bar', figsize=(10, 6))\n",
    "plt.title('Part-of-Speech Comparison (Human vs. ChatGPT)')\n",
    "plt.ylabel('Proportion (%)')\n",
    "plt.xlabel('POS Tags')\n",
    "plt.show()"
   ]
  }
 ],
 "metadata": {
  "kernelspec": {
   "display_name": "chatGPT",
   "language": "python",
   "name": "python3"
  },
  "language_info": {
   "codemirror_mode": {
    "name": "ipython",
    "version": 3
   },
   "file_extension": ".py",
   "mimetype": "text/x-python",
   "name": "python",
   "nbconvert_exporter": "python",
   "pygments_lexer": "ipython3",
   "version": "3.11.9"
  }
 },
 "nbformat": 4,
 "nbformat_minor": 2
}
